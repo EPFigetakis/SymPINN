{
 "cells": [
  {
   "cell_type": "markdown",
   "metadata": {},
   "source": [
    "## Symbolic Regressor \n",
    "\n",
    "The goal is to use a symbolic regressor to try and map a complex equation using a human readable equation. This should provide a better mapping of the interactions between the features rather than a normal regressor. "
   ]
  },
  {
   "cell_type": "code",
   "execution_count": 1,
   "metadata": {},
   "outputs": [],
   "source": [
    "import sympy as sp\n",
    "import numpy as np \n",
    "import pandas as pd\n",
    "\n",
    "with open(\"../best_equation.txt\", \"r\") as f:\n",
    "    eq_str = f.read().strip()"
   ]
  },
  {
   "cell_type": "code",
   "execution_count": 2,
   "metadata": {},
   "outputs": [],
   "source": [
    "x = sp.symbols('x0:12')\n",
    "expr = sp.sympify(eq_str)\n",
    "f_lambdified = sp.lambdify(x, expr, modules='numpy')"
   ]
  },
  {
   "cell_type": "code",
   "execution_count": 3,
   "metadata": {},
   "outputs": [
    {
     "name": "stdout",
     "output_type": "stream",
     "text": [
      "(28, 12)\n"
     ]
    }
   ],
   "source": [
    "data = pd.read_csv(\"../Org-Data/OriginalData.csv\") \n",
    "\n",
    "X = data.iloc[:, :-2].values\n",
    "y_1 = data.iloc[:, -2:-1].values #RT\n",
    "y1 = y_1.reshape(len(y_1),)\n",
    "print(X.shape)"
   ]
  },
  {
   "cell_type": "code",
   "execution_count": 4,
   "metadata": {},
   "outputs": [],
   "source": [
    "y_pred = np.apply_along_axis(lambda row: f_lambdified(*row), 1, X)"
   ]
  },
  {
   "cell_type": "code",
   "execution_count": 5,
   "metadata": {},
   "outputs": [],
   "source": [
    "loss = abs(y_pred - y1)\n",
    "#loss = np.around(loss,2)\n",
    "truncated_arr = np.trunc(loss * 100) / 100"
   ]
  },
  {
   "cell_type": "code",
   "execution_count": 6,
   "metadata": {},
   "outputs": [
    {
     "name": "stdout",
     "output_type": "stream",
     "text": [
      "30.57\n"
     ]
    }
   ],
   "source": [
    "print(\"%.2f\" % loss[0])"
   ]
  },
  {
   "cell_type": "code",
   "execution_count": 7,
   "metadata": {},
   "outputs": [
    {
     "name": "stdout",
     "output_type": "stream",
     "text": [
      "[ 30.57   0.63   5.07   4.41   1.08   2.36   1.78  61.87   0.14  15.88\n",
      "   6.05   0.9    1.07  63.34  58.21   0.92  41.83   1.13   0.86  17.48\n",
      "   1.27   0.05 165.73   0.26  86.88  30.81   1.2  653.3 ]\n"
     ]
    }
   ],
   "source": [
    "np.set_printoptions(suppress=True, precision=2)\n",
    "print(truncated_arr)"
   ]
  }
 ],
 "metadata": {
  "kernelspec": {
   "display_name": "SymPinn",
   "language": "python",
   "name": "python3"
  },
  "language_info": {
   "codemirror_mode": {
    "name": "ipython",
    "version": 3
   },
   "file_extension": ".py",
   "mimetype": "text/x-python",
   "name": "python",
   "nbconvert_exporter": "python",
   "pygments_lexer": "ipython3",
   "version": "3.10.16"
  }
 },
 "nbformat": 4,
 "nbformat_minor": 2
}
