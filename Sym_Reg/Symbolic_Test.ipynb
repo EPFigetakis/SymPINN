{
 "cells": [
  {
   "cell_type": "markdown",
   "metadata": {},
   "source": [
    "## Symbolic Regressor \n",
    "\n",
    "The goal is to use a symbolic regressor to try and map a complex equation using a human readable equation. This should provide a better mapping of the interactions between the features rather than a normal regressor. "
   ]
  },
  {
   "cell_type": "code",
   "execution_count": 3,
   "metadata": {},
   "outputs": [],
   "source": [
    "from math import sin as sin\n",
    "import pandas as pd \n",
    "\n",
    "df = pd.read_csv(\"../Org-Data/OriginalData.csv\")\n"
   ]
  },
  {
   "cell_type": "code",
   "execution_count": 4,
   "metadata": {},
   "outputs": [],
   "source": [
    "for i in range(1, 13):\n",
    "    globals()[f'x{i}'] = df.iloc[:, i - 1].values"
   ]
  },
  {
   "cell_type": "code",
   "execution_count": 5,
   "metadata": {},
   "outputs": [
    {
     "name": "stdout",
     "output_type": "stream",
     "text": [
      "[ 77.5  87.5  87.5  95.   95.   87.5  95.   87.5  95.   77.5  87.5  95.\n",
      "  87.5  95.   50.   57.5  50.   70.   45.   70.   77.5  60.  114.  114.\n",
      " 114.   45.   23.  146. ]\n"
     ]
    }
   ],
   "source": [
    "print(x1)"
   ]
  },
  {
   "cell_type": "code",
   "execution_count": 6,
   "metadata": {},
   "outputs": [],
   "source": [
    "calc = (((((x9[0] + -14.729325) - sin(x5[0])) * ((x2[0] + -9.868816) + (sin(x6[0]) / (x6[0] / 14.696979)))) * 1.7350925) - -162.16467) - ((sin(x7[0]) / sin(sin(x4[0]))) / 0.07805177)"
   ]
  },
  {
   "cell_type": "code",
   "execution_count": 7,
   "metadata": {},
   "outputs": [
    {
     "name": "stdout",
     "output_type": "stream",
     "text": [
      "298.6448495988344\n"
     ]
    }
   ],
   "source": [
    "print(calc)"
   ]
  }
 ],
 "metadata": {
  "kernelspec": {
   "display_name": "SymPinn",
   "language": "python",
   "name": "python3"
  },
  "language_info": {
   "codemirror_mode": {
    "name": "ipython",
    "version": 3
   },
   "file_extension": ".py",
   "mimetype": "text/x-python",
   "name": "python",
   "nbconvert_exporter": "python",
   "pygments_lexer": "ipython3",
   "version": "3.10.16"
  }
 },
 "nbformat": 4,
 "nbformat_minor": 2
}
